{
 "cells": [
  {
   "cell_type": "markdown",
   "metadata": {},
   "source": [
    "<h1 align='center'> COMP2420/COMP6420 - Introduction to Data Management,<br/> Analysis and Security</h1>\n",
    "\n",
    "<h1 align='center'> Assignment - 1</h1>\n",
    "\n",
    "-----\n",
    "\n",
    "|**Maximum Marks**         |**100**\n",
    "|--------------------------|--------\n",
    "|  **Weight**              |  **15% of the Total Course Grade**\n",
    "|  **Submission deadline** |  **6:00PM, Friday, April 2nd**\n",
    "|  **Submission mode**     |  **Electronic, Using GitLab**\n",
    "|  **Penalty**             |  **100% after the deadline**\n",
    "\n",
    "\n",
    "## Learning Outcomes\n",
    "The following learning outcomes apply to this piece:\n",
    "- **LO3** - Demonstrate basic knowledge and understanding of descriptive and predictive data analysis methods, optimization and search, and knowledge representation.\n",
    "- **LO4** - Formulate and extract descriptive and predictive statistics from data\n",
    "- **LO5** - Analyse and interpret results from descriptive and predictive data analysis\n",
    "- **LO6** - Apply their knowledge to a given problem domain and articulate potential data analysis problems\n",
    "\n",
    "\n",
    "## Submission\n",
    "\n",
    "You need to submit the following items:\n",
    "- The notebook `Assignment-1.ipynb` with your solutions.\n",
    "- A completed `statement-of-originality.md`, found in the root of the forked gitlab repo.\n",
    "\n",
    "Submissions are performed by pushing to your forked GitLab assignment repository. For a refresher on forking and cloning repositories, please refer to `Lab 1`. Issues with your Git repo (with the exception of a CECS/ANU wide Gitlab failure) will not be considered as grounds for an extension. You will also need to add your details below. Any variation of this will result in a `zero mark`.\n",
    "\n",
    "***** \n",
    "\n",
    "### Notes:\n",
    "\n",
    "* It is strongly advised to read the whole assignment before attempting it and have at least a cursory glance at the dataset in order to gauge the requirements and understand what you need to do as a bigger picture.\n",
    "* Backup your assignment to your Gitlab repo often. \n",
    "* Extra reading and research will be required. Make sure you include all references in your Statement of Originality. If this does not occur, at best marks will be deduced. Otherwise, academic misconduct processes will be followed.\n",
    "* For answers requiring free form written text, use the designated cells denoted by `YOUR WRITTEN ANSWER HERE` -- double click on the cell to write inside them.\n",
    "* For all coding questions please write your code after the comment `YOUR CODE HERE`.\n",
    "* In the process of testing your code, you can insert more cells or use print statements for debugging, but when submitting your file remember to remove these cells and calls respectively. You are welcome to add additional cells to the final submission, provided they add value to the overall piece.\n",
    "* You will be marked on the **correctness** and **readability** of your answers, including your code. If your marker can't understand your answer/code, then marks may be deducted. \n",
    "* Before submitting, restart the kernel in Jupiter Lab and re-run all cells before submitting your code. This will ensure the namespace has not kept any old variables, as these won't come across in submission and your code will not run. Without this, you could lose a significant number of marks.\n",
    "\n",
    "*****"
   ]
  },
  {
   "cell_type": "markdown",
   "metadata": {},
   "source": [
    "### Enter your Student ID below:"
   ]
  },
  {
   "cell_type": "raw",
   "metadata": {},
   "source": [
    "u6828533"
   ]
  },
  {
   "cell_type": "markdown",
   "metadata": {},
   "source": [
    "******\n",
    "# Introduction\n",
    "\n",
    "Video content is being produced, transported and consumed in more ways and by devices than ever. To facilitate this process, seamless interaction between video producing, transporting and consuming devices is required. The difference in avaliable resources, network bandwidth and video representation types between devices requires a mechanism for video content adaptation and translation. One such mechanism is video transcoding.\n",
    "\n",
    "\n",
    "### So What is Video Transcoding?\n",
    "\n",
    "Video transcoding (sometimes refered to as encoding) is the process of converting a video from one digital format to another. A format is defined by characteristics such as:\n",
    "\n",
    "- Bit rate\n",
    "- Frame rate\n",
    "- Spatial resolution\n",
    "- Coding syntax\n",
    "- Content\n",
    "\n",
    "One of the earliest applications of transcoding was to adapt the bit rate of a precompressed video stream to a channel bandwidth. For example, a TV program may be originally compressed at a high bit rate for studio applications, but later needs to be transmitted over a public channel at a much lower bit rate.\n",
    "\n",
    "\n",
    "### So what are we doing with this?\n",
    "Transcoding is a computationally demanding process and several methods has been proposed in order to increase its efficiency. Runtime scheduling of transcoding jobs in multicore and cloud environments is hard as resource requirements may not be known before hand. Currently, for video transcoding jobs, one has to rely on worst-case values which lead to an over provisioning of resources. This is due to the fact that the resource requirement of a transcoding job is highly dependent on the video data to be converted and its conversion parameters. In order to allow such distributed and multicore systems to overcome the problem of over provisioning, a method for predicting the resource requirement of each job is required.  If the scheduler can predict accurately how long each job would take to execute on a given platform, it can make an optimal decision, returning results faster, possibly minimizing energy, waiting time and maximizing throughput.\n",
    "\n",
    "\n",
    "*****\n",
    "## Data Description\n",
    "The presented dataset (`transcoding_data.csv`) contains 23 columns which include input and output video characteristics, along with their transcoding time and memory resource requirements, while transcoding videos to different but valid formats. The dataset was collected based on experiments on an Intel i7-3720QM CPU through randomly picking output parameters of a video transcoding application. The attributes present in the dataset and their information are presented in the table below.\n",
    "\n",
    "| Attribute |             Information            |   Attribute  |                  Information                 |\n",
    "|:---------:|:----------------------------------:|:------------:|:--------------------------------------------:|\n",
    "|     `id`    | Youtube Video ID                   |    `frames`    | Total Number of Frames in Video              |\n",
    "|  `duration` | Duration of video in seconds       |     `size`     | Total Size of Video                          |\n",
    "|  `bitrate`  | Video Bitrate                      |    `o_codec`   | Output Codec used for Transcoding            |\n",
    "|   `height`  | Height of video in pixles          |   `o_bitrate`  | Output Bitrate used for Transcoding          |\n",
    "|   `width`   | Width of video in pixels           |  `o_framerate` | Output Framerate used for Transcoding        |\n",
    "| `framerate` | Number of Frames per Second        |    `o_width`   | Output Width in pixel used for Transcoding   |\n",
    "|   `codec`   | Coding standard used for the video |   `o_height`   | Output Height used in pixel for Transcoding  |\n",
    "|     `i`     | number of i frames in the video    | `o_resolution` | Output Resolution used for Transcoding       |\n",
    "|     `p`     | number of p frames in the video    |     `umem`     | Total Codec Allocated Memory for Transcoding |\n",
    "|     `b`     | number of b frames in the video    |     `utime`    | Total Process Time for Transcoding           |\n",
    "\n",
    "**Note:** We have a sizable dataset to give you, so it is wise to consider your code in terms of complexity to ensure it doesn't take 30 minutes to run a single line. Any cells taking excessively long to run will result in a 0 grade for that sub question.\n",
    "****"
   ]
  },
  {
   "cell_type": "code",
   "execution_count": 1,
   "metadata": {},
   "outputs": [],
   "source": [
    "# Common Imports\n",
    "import numpy as np\n",
    "import pandas as pd\n",
    "from scipy import stats\n",
    "import matplotlib.pyplot as plt\n",
    "from matplotlib import cm\n",
    "import seaborn as sns\n",
    "%matplotlib inline\n",
    "# JUST TO MAKE SURE SOME WARNINGS ARE IGNORED \n",
    "import warnings\n",
    "warnings.filterwarnings(\"ignore\")"
   ]
  },
  {
   "cell_type": "code",
   "execution_count": 2,
   "metadata": {},
   "outputs": [],
   "source": [
    "# Import additional modules here as required\n",
    "# It is unlikely that you would need any additional modules. However, we had added space here just in case you feel \n",
    "# extras are required. Note that some justification as to WHY you are using them should be provided.\n",
    "#\n",
    "# Note that only modules in the standard Anaconda distribution are allowed. If you need to install it manually, it is not an accepted package."
   ]
  },
  {
   "cell_type": "markdown",
   "metadata": {},
   "source": [
    "****\n",
    "## Q1: Loading and Processing the Data\n",
    "Your first step in any data analysis and visualisation is to load the data and make it usable. Note how there are various columns that use text categories, and some categories missing data altogether. It would be wise to prepare the data to make it easier to work on.\n",
    "\n",
    "This is an open-ended question, and marks will be awarded for logical processing of data.\n",
    "\n",
    "**HINTS** -\n",
    "* You might want to change the datatype of some columns to make them more useful from an analysis point-of-view.\n",
    "* You might need to drop unnecessary or rededundant columns.\n",
    "* You might need to rename some columns.\n",
    "\n",
    "<span style= 'float: right;'><b>[5 marks]</b></span>"
   ]
  },
  {
   "cell_type": "code",
   "execution_count": 3,
   "metadata": {},
   "outputs": [],
   "source": [
    "df = pd.read_csv(\"transcoding_data.csv\") # Load the csv file of transcoding data into DataFrame.\n",
    "\n",
    "df.dropna(inplace=True) # Remove missing values.\n",
    "df.drop_duplicates(inplace=True) # Remove duplicate rows.\n",
    "df.drop(df.loc[(df[\"url\"].str.contains(\"ERROR\"))|(df[\"url\"].str.contains(\"WARNING\"))].index, inplace=True) \n",
    "# Drop the row of which an \"ERROR\" or a \"WARNING\" occurrs in the \"url\" column.\n",
    "\n",
    "df.drop([\"url\", \"id\", \"category\", \"i\", \"p\", \"b\", \"width\", \"height\", \"o_width\", \"o_height\"], axis=1, inplace=True) \n",
    "# Drop unnecessary columns \"url\", \"id\", and \"category\" that are useless for the data analysis of video transcoding.\n",
    "# Drop unnecessary column \"i\", \"p\", and \"b\", since their sum \"frames\" is more effective for data analysis. \n",
    "# Drop redundant columns \"width\", \"height\", \"o_width\", and \"o_height\" that are included in resolution and o_resolution.\n",
    "\n",
    "df = df.round(0) # Round all the floats in DataFrame.\n",
    "\n",
    "columns_float = [\"framerate\", \"frames\", \"size\", \"o_framerate\", \"umem\", \"utime\"]\n",
    "df[columns_float] = df[columns_float].applymap(np.int64) # Apply the int64 datatype to all float64 columns.\n",
    "\n",
    "columns_reorder = [\"duration\", \"frames\", \"size\", \"utime\", \"umem\", \n",
    "                   \"codec\", \"o_codec\", \"bitrate\", \"o_bitrate\", \n",
    "                   \"resolution\", \"o_resolution\", \"framerate\", \"o_framerate\"] \n",
    "df = df[columns_reorder] # Reorder the columns to make input and output attributes adjacent.\n",
    "\n",
    "rename_dict = {\"utime\": \"time\", \"umem\": \"memory\"}\n",
    "df.rename(rename_dict, axis=1, inplace=True) # Rename \"utime\" and \"umem\" columns for better understanding."
   ]
  },
  {
   "cell_type": "code",
   "execution_count": 4,
   "metadata": {},
   "outputs": [
    {
     "data": {
      "text/html": [
       "<div>\n",
       "<style scoped>\n",
       "    .dataframe tbody tr th:only-of-type {\n",
       "        vertical-align: middle;\n",
       "    }\n",
       "\n",
       "    .dataframe tbody tr th {\n",
       "        vertical-align: top;\n",
       "    }\n",
       "\n",
       "    .dataframe thead th {\n",
       "        text-align: right;\n",
       "    }\n",
       "</style>\n",
       "<table border=\"1\" class=\"dataframe\">\n",
       "  <thead>\n",
       "    <tr style=\"text-align: right;\">\n",
       "      <th></th>\n",
       "      <th>duration</th>\n",
       "      <th>frames</th>\n",
       "      <th>size</th>\n",
       "      <th>time</th>\n",
       "      <th>memory</th>\n",
       "      <th>codec</th>\n",
       "      <th>o_codec</th>\n",
       "      <th>bitrate</th>\n",
       "      <th>o_bitrate</th>\n",
       "      <th>resolution</th>\n",
       "      <th>o_resolution</th>\n",
       "      <th>framerate</th>\n",
       "      <th>o_framerate</th>\n",
       "    </tr>\n",
       "  </thead>\n",
       "  <tbody>\n",
       "    <tr>\n",
       "      <th>0</th>\n",
       "      <td>267</td>\n",
       "      <td>8002</td>\n",
       "      <td>2984742</td>\n",
       "      <td>166</td>\n",
       "      <td>172248</td>\n",
       "      <td>h264</td>\n",
       "      <td>mpeg4</td>\n",
       "      <td>373</td>\n",
       "      <td>5000000</td>\n",
       "      <td>568x320</td>\n",
       "      <td>480x360</td>\n",
       "      <td>30</td>\n",
       "      <td>15</td>\n",
       "    </tr>\n",
       "    <tr>\n",
       "      <th>1</th>\n",
       "      <td>267</td>\n",
       "      <td>8002</td>\n",
       "      <td>2592645</td>\n",
       "      <td>51</td>\n",
       "      <td>115356</td>\n",
       "      <td>flv1</td>\n",
       "      <td>flv1</td>\n",
       "      <td>324</td>\n",
       "      <td>242000</td>\n",
       "      <td>400x226</td>\n",
       "      <td>320x240</td>\n",
       "      <td>30</td>\n",
       "      <td>12</td>\n",
       "    </tr>\n",
       "    <tr>\n",
       "      <th>2</th>\n",
       "      <td>267</td>\n",
       "      <td>3204</td>\n",
       "      <td>272340</td>\n",
       "      <td>174</td>\n",
       "      <td>37827</td>\n",
       "      <td>mpeg4</td>\n",
       "      <td>flv1</td>\n",
       "      <td>85</td>\n",
       "      <td>5000000</td>\n",
       "      <td>176x144</td>\n",
       "      <td>640x480</td>\n",
       "      <td>12</td>\n",
       "      <td>24</td>\n",
       "    </tr>\n",
       "    <tr>\n",
       "      <th>3</th>\n",
       "      <td>31</td>\n",
       "      <td>744</td>\n",
       "      <td>938184</td>\n",
       "      <td>151</td>\n",
       "      <td>110003</td>\n",
       "      <td>h264</td>\n",
       "      <td>mpeg4</td>\n",
       "      <td>1261</td>\n",
       "      <td>820000</td>\n",
       "      <td>640x480</td>\n",
       "      <td>640x480</td>\n",
       "      <td>24</td>\n",
       "      <td>24</td>\n",
       "    </tr>\n",
       "    <tr>\n",
       "      <th>4</th>\n",
       "      <td>31</td>\n",
       "      <td>744</td>\n",
       "      <td>275280</td>\n",
       "      <td>278</td>\n",
       "      <td>77904</td>\n",
       "      <td>flv1</td>\n",
       "      <td>flv1</td>\n",
       "      <td>370</td>\n",
       "      <td>5000000</td>\n",
       "      <td>320x240</td>\n",
       "      <td>1920x1080</td>\n",
       "      <td>24</td>\n",
       "      <td>30</td>\n",
       "    </tr>\n",
       "    <tr>\n",
       "      <th>...</th>\n",
       "      <td>...</td>\n",
       "      <td>...</td>\n",
       "      <td>...</td>\n",
       "      <td>...</td>\n",
       "      <td>...</td>\n",
       "      <td>...</td>\n",
       "      <td>...</td>\n",
       "      <td>...</td>\n",
       "      <td>...</td>\n",
       "      <td>...</td>\n",
       "      <td>...</td>\n",
       "      <td>...</td>\n",
       "      <td>...</td>\n",
       "    </tr>\n",
       "    <tr>\n",
       "      <th>4885</th>\n",
       "      <td>1711</td>\n",
       "      <td>51330</td>\n",
       "      <td>17554860</td>\n",
       "      <td>197</td>\n",
       "      <td>156446</td>\n",
       "      <td>flv1</td>\n",
       "      <td>flv1</td>\n",
       "      <td>342</td>\n",
       "      <td>820000</td>\n",
       "      <td>320x240</td>\n",
       "      <td>1920x1080</td>\n",
       "      <td>30</td>\n",
       "      <td>30</td>\n",
       "    </tr>\n",
       "    <tr>\n",
       "      <th>4886</th>\n",
       "      <td>1711</td>\n",
       "      <td>20532</td>\n",
       "      <td>1663092</td>\n",
       "      <td>216</td>\n",
       "      <td>114588</td>\n",
       "      <td>mpeg4</td>\n",
       "      <td>h264</td>\n",
       "      <td>81</td>\n",
       "      <td>5000000</td>\n",
       "      <td>176x144</td>\n",
       "      <td>1280x720</td>\n",
       "      <td>12</td>\n",
       "      <td>25</td>\n",
       "    </tr>\n",
       "    <tr>\n",
       "      <th>4887</th>\n",
       "      <td>2296</td>\n",
       "      <td>57400</td>\n",
       "      <td>60384800</td>\n",
       "      <td>246</td>\n",
       "      <td>281322</td>\n",
       "      <td>h264</td>\n",
       "      <td>h264</td>\n",
       "      <td>1052</td>\n",
       "      <td>109000</td>\n",
       "      <td>640x480</td>\n",
       "      <td>1920x1080</td>\n",
       "      <td>25</td>\n",
       "      <td>12</td>\n",
       "    </tr>\n",
       "    <tr>\n",
       "      <th>4888</th>\n",
       "      <td>2296</td>\n",
       "      <td>57400</td>\n",
       "      <td>68593000</td>\n",
       "      <td>205</td>\n",
       "      <td>331965</td>\n",
       "      <td>vp8</td>\n",
       "      <td>mpeg4</td>\n",
       "      <td>1195</td>\n",
       "      <td>3000000</td>\n",
       "      <td>640x480</td>\n",
       "      <td>480x360</td>\n",
       "      <td>25</td>\n",
       "      <td>24</td>\n",
       "    </tr>\n",
       "    <tr>\n",
       "      <th>4889</th>\n",
       "      <td>2296</td>\n",
       "      <td>27552</td>\n",
       "      <td>2231712</td>\n",
       "      <td>99</td>\n",
       "      <td>95647</td>\n",
       "      <td>mpeg4</td>\n",
       "      <td>flv1</td>\n",
       "      <td>81</td>\n",
       "      <td>242000</td>\n",
       "      <td>176x144</td>\n",
       "      <td>480x360</td>\n",
       "      <td>12</td>\n",
       "      <td>15</td>\n",
       "    </tr>\n",
       "  </tbody>\n",
       "</table>\n",
       "<p>4885 rows × 13 columns</p>\n",
       "</div>"
      ],
      "text/plain": [
       "      duration  frames      size  time  memory  codec o_codec  bitrate  \\\n",
       "0          267    8002   2984742   166  172248   h264   mpeg4      373   \n",
       "1          267    8002   2592645    51  115356   flv1    flv1      324   \n",
       "2          267    3204    272340   174   37827  mpeg4    flv1       85   \n",
       "3           31     744    938184   151  110003   h264   mpeg4     1261   \n",
       "4           31     744    275280   278   77904   flv1    flv1      370   \n",
       "...        ...     ...       ...   ...     ...    ...     ...      ...   \n",
       "4885      1711   51330  17554860   197  156446   flv1    flv1      342   \n",
       "4886      1711   20532   1663092   216  114588  mpeg4    h264       81   \n",
       "4887      2296   57400  60384800   246  281322   h264    h264     1052   \n",
       "4888      2296   57400  68593000   205  331965    vp8   mpeg4     1195   \n",
       "4889      2296   27552   2231712    99   95647  mpeg4    flv1       81   \n",
       "\n",
       "      o_bitrate resolution o_resolution  framerate  o_framerate  \n",
       "0       5000000    568x320      480x360         30           15  \n",
       "1        242000    400x226      320x240         30           12  \n",
       "2       5000000    176x144      640x480         12           24  \n",
       "3        820000    640x480      640x480         24           24  \n",
       "4       5000000    320x240    1920x1080         24           30  \n",
       "...         ...        ...          ...        ...          ...  \n",
       "4885     820000    320x240    1920x1080         30           30  \n",
       "4886    5000000    176x144     1280x720         12           25  \n",
       "4887     109000    640x480    1920x1080         25           12  \n",
       "4888    3000000    640x480      480x360         25           24  \n",
       "4889     242000    176x144      480x360         12           15  \n",
       "\n",
       "[4885 rows x 13 columns]"
      ]
     },
     "execution_count": 4,
     "metadata": {},
     "output_type": "execute_result"
    }
   ],
   "source": [
    "df # Display the processed DataFrame"
   ]
  },
  {
   "cell_type": "markdown",
   "metadata": {},
   "source": [
    "******\n",
    "## Q2: Exploratory Data Analysis\n",
    "\n",
    "In this section you are expected to do an exploratory data analysis (EDA) on the dataset that you've just loaded and readied. EDA involves looking into any interesting features within the dataset. This could come in the form of relationships, anomalies or statistical trends. You are encouraged to start with a broad overview of the data and focus on specific aspects that seem like they could be of interest, even if they aren't! We want to see your process of data exploration using both **statistical** and **visual** methods here.\n",
    "\n",
    "**HINTS** -\n",
    "\n",
    "* If you have multiple graphs they should all be outputted as subplots under a single cell instead of each under their own cells. \n",
    "* Announce some descriptive stats on your data and explain what they mean in the context of this dataset.\n",
    "\n",
    "\n",
    "<span style= 'float: right;'><b>[20 marks]</b></span>"
   ]
  },
  {
   "cell_type": "code",
   "execution_count": 5,
   "metadata": {},
   "outputs": [
    {
     "data": {
      "text/html": [
       "<div>\n",
       "<style scoped>\n",
       "    .dataframe tbody tr th:only-of-type {\n",
       "        vertical-align: middle;\n",
       "    }\n",
       "\n",
       "    .dataframe tbody tr th {\n",
       "        vertical-align: top;\n",
       "    }\n",
       "\n",
       "    .dataframe thead th {\n",
       "        text-align: right;\n",
       "    }\n",
       "</style>\n",
       "<table border=\"1\" class=\"dataframe\">\n",
       "  <thead>\n",
       "    <tr style=\"text-align: right;\">\n",
       "      <th></th>\n",
       "      <th>duration</th>\n",
       "      <th>frames</th>\n",
       "      <th>size</th>\n",
       "      <th>time</th>\n",
       "      <th>memory</th>\n",
       "      <th>codec</th>\n",
       "      <th>o_codec</th>\n",
       "      <th>bitrate</th>\n",
       "      <th>o_bitrate</th>\n",
       "      <th>framerate</th>\n",
       "      <th>o_framerate</th>\n",
       "      <th>resolution_product</th>\n",
       "      <th>o_resolution_product</th>\n",
       "    </tr>\n",
       "  </thead>\n",
       "  <tbody>\n",
       "    <tr>\n",
       "      <th>0</th>\n",
       "      <td>267</td>\n",
       "      <td>8002</td>\n",
       "      <td>2984742</td>\n",
       "      <td>166</td>\n",
       "      <td>172248</td>\n",
       "      <td>h264</td>\n",
       "      <td>mpeg4</td>\n",
       "      <td>373</td>\n",
       "      <td>5000000</td>\n",
       "      <td>30</td>\n",
       "      <td>15</td>\n",
       "      <td>181760</td>\n",
       "      <td>172800</td>\n",
       "    </tr>\n",
       "    <tr>\n",
       "      <th>1</th>\n",
       "      <td>267</td>\n",
       "      <td>8002</td>\n",
       "      <td>2592645</td>\n",
       "      <td>51</td>\n",
       "      <td>115356</td>\n",
       "      <td>flv1</td>\n",
       "      <td>flv1</td>\n",
       "      <td>324</td>\n",
       "      <td>242000</td>\n",
       "      <td>30</td>\n",
       "      <td>12</td>\n",
       "      <td>90400</td>\n",
       "      <td>76800</td>\n",
       "    </tr>\n",
       "    <tr>\n",
       "      <th>2</th>\n",
       "      <td>267</td>\n",
       "      <td>3204</td>\n",
       "      <td>272340</td>\n",
       "      <td>174</td>\n",
       "      <td>37827</td>\n",
       "      <td>mpeg4</td>\n",
       "      <td>flv1</td>\n",
       "      <td>85</td>\n",
       "      <td>5000000</td>\n",
       "      <td>12</td>\n",
       "      <td>24</td>\n",
       "      <td>25344</td>\n",
       "      <td>307200</td>\n",
       "    </tr>\n",
       "    <tr>\n",
       "      <th>3</th>\n",
       "      <td>31</td>\n",
       "      <td>744</td>\n",
       "      <td>938184</td>\n",
       "      <td>151</td>\n",
       "      <td>110003</td>\n",
       "      <td>h264</td>\n",
       "      <td>mpeg4</td>\n",
       "      <td>1261</td>\n",
       "      <td>820000</td>\n",
       "      <td>24</td>\n",
       "      <td>24</td>\n",
       "      <td>307200</td>\n",
       "      <td>307200</td>\n",
       "    </tr>\n",
       "    <tr>\n",
       "      <th>4</th>\n",
       "      <td>31</td>\n",
       "      <td>744</td>\n",
       "      <td>275280</td>\n",
       "      <td>278</td>\n",
       "      <td>77904</td>\n",
       "      <td>flv1</td>\n",
       "      <td>flv1</td>\n",
       "      <td>370</td>\n",
       "      <td>5000000</td>\n",
       "      <td>24</td>\n",
       "      <td>30</td>\n",
       "      <td>76800</td>\n",
       "      <td>2073600</td>\n",
       "    </tr>\n",
       "  </tbody>\n",
       "</table>\n",
       "</div>"
      ],
      "text/plain": [
       "   duration  frames     size  time  memory  codec o_codec  bitrate  o_bitrate  \\\n",
       "0       267    8002  2984742   166  172248   h264   mpeg4      373    5000000   \n",
       "1       267    8002  2592645    51  115356   flv1    flv1      324     242000   \n",
       "2       267    3204   272340   174   37827  mpeg4    flv1       85    5000000   \n",
       "3        31     744   938184   151  110003   h264   mpeg4     1261     820000   \n",
       "4        31     744   275280   278   77904   flv1    flv1      370    5000000   \n",
       "\n",
       "   framerate  o_framerate  resolution_product  o_resolution_product  \n",
       "0         30           15              181760                172800  \n",
       "1         30           12               90400                 76800  \n",
       "2         12           24               25344                307200  \n",
       "3         24           24              307200                307200  \n",
       "4         24           30               76800               2073600  "
      ]
     },
     "execution_count": 5,
     "metadata": {},
     "output_type": "execute_result"
    }
   ],
   "source": [
    "# In this cell, I calculate the product results of video resolution and output resolution in each row \n",
    "# and put them in the columns of \"resolution_product\" and \"o_resolution_product\" to replace the columns\n",
    "# \"resolution\" and \"o_resolution\", for the purpose of better conducting EDA.\n",
    "\n",
    "df_product = df\n",
    "df_product[[\"w\", \"h\"]] = df_product[\"resolution\"].str.split(\"x\",expand=True).applymap(np.int64)\n",
    "df_product[[\"ow\", \"oh\"]] = df_product[\"o_resolution\"].str.split(\"x\",expand=True).applymap(np.int64)\n",
    "df_product[\"resolution_product\"] = df_product[\"w\"] * df_product[\"h\"]\n",
    "df_product[\"o_resolution_product\"] = df_product[\"ow\"] * df_product[\"oh\"]\n",
    "df_product.drop([\"w\",\"h\", \"ow\", \"oh\", \"resolution\", \"o_resolution\"], axis=1, inplace=True)\n",
    "df_product.head()"
   ]
  },
  {
   "cell_type": "code",
   "execution_count": 145,
   "metadata": {
    "tags": []
   },
   "outputs": [
    {
     "data": {
      "image/png": "[encoded data removed]",
      "text/plain": [
       "<Figure size 648x648 with 2 Axes>"
      ]
     },
     "metadata": {},
     "output_type": "display_data"
    }
   ],
   "source": [
    "corr = df_product.corr() # Compute the correlation matrix.\n",
    "\n",
    "mask = np.triu(np.ones_like(corr, dtype=bool)) # Generate a mask for the upper triangle.\n",
    "\n",
    "f, ax = plt.subplots(figsize=(9, 9)) # Set up the matplotlib figure.\n",
    "\n",
    "cmap = sns.diverging_palette(230, 20, as_cmap=True) # Generate a custom diverging colormap.\n",
    "\n",
    "ax_heatmap = sns.heatmap(corr, mask=mask, cmap=cmap, vmin=-.1, vmax=.9, center=-.1, square=True, linewidths=.1,\n",
    "                         annot=True, annot_kws={\"size\": 12}, cbar_kws={\"shrink\": .5}) # Draw the heatmap."
   ]
  },
  {
   "cell_type": "raw",
   "metadata": {},
   "source": [
    "# YOUR WRITTEN ANSWER HERE"
   ]
  },
  {
   "cell_type": "markdown",
   "metadata": {},
   "source": [
    "******\n",
    "## Q3: Optimal Settings for Video Transcoding\n",
    "In this section, you will be provided a question or statement that are you required to prove/disprove. You are expected to draw upon not only your visualisation skills, but also your hypothesis testing skills where required. You are also expected to provide code and written answers as required. Marks will be allocated based on the depth of your answer.\n",
    "\n",
    "Don't forget to state any assumptions you make in the questions in order to clarify your argument.\n",
    "\n",
    "<span style= 'float: right;'><b>[15 marks Total]</b></span>"
   ]
  },
  {
   "cell_type": "markdown",
   "metadata": {},
   "source": [
    "### Q3.1: Is there a relationship between the transcoding parameters and the characteristics of the input video?\n",
    "\n",
    "Note: The transcoding parameters mentioned here are **[o_codec, o_bitrate, o_framerate, o_resolution]** and the characteristics are **[duration, codec, bitrate, width, height, framerate, frames, i, p, b, size]** respectively.\n",
    "\n",
    "<span style= 'float: right;'><b>[2 marks]</b></span>"
   ]
  },
  {
   "cell_type": "code",
   "execution_count": 6,
   "metadata": {},
   "outputs": [],
   "source": [
    "# YOUR CODE HERE\n",
    "# (ADD ANY ADDITIONAL CELLS AS REQUIRED)"
   ]
  },
  {
   "cell_type": "raw",
   "metadata": {},
   "source": [
    "# YOUR WRITTEN RESPONSE HERE"
   ]
  },
  {
   "cell_type": "markdown",
   "metadata": {},
   "source": [
    "### Q3.2: What are best settings to apply to the transcoding parameters so as to minimise the memory consumed by the transcoding process?\n",
    "\n",
    "Note: The transcoding parameters mentioned here are **[o_codec, o_bitrate, o_framerate, o_resolution]**.\n",
    "\n",
    "<span style= 'float: right;'><b>[4 marks]</b></span>"
   ]
  },
  {
   "cell_type": "code",
   "execution_count": 7,
   "metadata": {},
   "outputs": [],
   "source": [
    "# YOUR CODE HERE\n",
    "# (ADD ANY ADDITIONAL CELLS AS REQUIRED)"
   ]
  },
  {
   "cell_type": "raw",
   "metadata": {},
   "source": [
    "# YOUR WRITTEN RESPONSE HERE"
   ]
  },
  {
   "cell_type": "markdown",
   "metadata": {},
   "source": [
    "### Q3.3: Which transcoding parameters have the greatest impact on Process Time for Transcoding (`utime`)? List them in descending order of effect (most to least).\n",
    "<span style= 'float: right;'><b>[4 marks]</b></span>"
   ]
  },
  {
   "cell_type": "code",
   "execution_count": 8,
   "metadata": {},
   "outputs": [],
   "source": [
    "# YOUR CODE HERE\n",
    "# (ADD ANY ADDITIONAL CELLS AS REQUIRED)"
   ]
  },
  {
   "cell_type": "raw",
   "metadata": {},
   "source": [
    "# YOUR WRITTEN RESPONSE HERE"
   ]
  },
  {
   "cell_type": "markdown",
   "metadata": {},
   "source": [
    "### Q3.4: Does the difference in the video's input and output resolution affect the Process Time for Transcoding (`utime`)? How does this resolution difference vary (if at all) in relation to the Output Resolution used for Transcoding (`o_resolution`)?\n",
    "\n",
    "    \n",
    "<span style= 'float: right;'><b>[5 marks]</b></span>"
   ]
  },
  {
   "cell_type": "code",
   "execution_count": 9,
   "metadata": {},
   "outputs": [],
   "source": [
    "# YOUR CODE HERE\n",
    "# (ADD ANY ADDITIONAL CELLS AS REQUIRED)"
   ]
  },
  {
   "cell_type": "raw",
   "metadata": {},
   "source": [
    "# YOUR WRITTEN RESPONSE HERE"
   ]
  },
  {
   "cell_type": "markdown",
   "metadata": {},
   "source": [
    "******\n",
    "## Q4: Data Analysis\n",
    "In this section, you will be provided a question or statement that are you required to prove/disprove. You are expected to draw upon not only your visualisation skills, but also your hypothesis testing skills where required. You are also expected to provide code and written answers as required. Marks will be allocated based on the depth of your answer.\n",
    "\n",
    "Don't forget to state any assumptions you make in the questions in order to clarify your argument.\n",
    "\n",
    "<span style= 'float: right;'><b>[40 marks Total]</b></span>"
   ]
  },
  {
   "cell_type": "markdown",
   "metadata": {},
   "source": [
    "### Q4.1: Is there a relationship between the total number of frames in a video and the transcoding time for a given output resolution and codec?\n",
    "\n",
    "Note there are a number of ways in which this can be done. However, due to the number of parameters available in the dataset, you can restrict the options for analysis (with justification), in order to reduce computational complexity.\n",
    "\n",
    "<span style= 'float: right;'><b>[5 marks]</b></span>"
   ]
  },
  {
   "cell_type": "code",
   "execution_count": 10,
   "metadata": {},
   "outputs": [],
   "source": [
    "# YOUR CODE HERE\n",
    "# (ADD ANY ADDITIONAL CELLS AS REQUIRED)"
   ]
  },
  {
   "cell_type": "raw",
   "metadata": {},
   "source": [
    "# YOUR WRITTEN ANSWER HERE"
   ]
  },
  {
   "cell_type": "markdown",
   "metadata": {},
   "source": [
    "### Q4.2: How does the resolution (width & height) of a video in the top 5 video categories vary with respect to the codec used and video category?\n",
    "\n",
    "<span style= 'float: right;'><b>[10 marks]</b></span>"
   ]
  },
  {
   "cell_type": "code",
   "execution_count": 11,
   "metadata": {},
   "outputs": [],
   "source": [
    "# YOUR CODE HERE\n",
    "# (ADD ANY ADDITIONAL CELLS AS REQUIRED)"
   ]
  },
  {
   "cell_type": "raw",
   "metadata": {},
   "source": [
    "# YOUR WRITTEN ANSWER HERE"
   ]
  },
  {
   "cell_type": "markdown",
   "metadata": {},
   "source": [
    "### Q4.3: Do videos with `flv1` codec transcode much faster than those with `h264` codec? Analyse the provided dataset and explain your findings.\n",
    "<span style= 'float: right;'><b>[15 marks]</b></span>\n",
    "**Hint:** A Hypothesis Test is a good way to assess a statement."
   ]
  },
  {
   "cell_type": "code",
   "execution_count": 12,
   "metadata": {},
   "outputs": [],
   "source": [
    "# YOUR CODE HERE\n",
    "# (ADD ANY ADDITIONAL CELLS AS REQUIRED)"
   ]
  },
  {
   "cell_type": "raw",
   "metadata": {},
   "source": [
    "# YOUR WRITTEN ANSWER HERE"
   ]
  },
  {
   "cell_type": "markdown",
   "metadata": {},
   "source": [
    "### Q4.4: This dataset is full of subtleties. Find two implicit relationships (not covered above) in the dataset and discuss how they could be used to better help with building a model to predict transcoding time and memory.\n",
    "**Note:** Implicit is defined as \"capable of being understood from something else though unexpressed\" ([reference](https://www.merriam-webster.com/dictionary/implicit)).\n",
    "\n",
    "**Hint:** Removing outliers makes it easier to detect implicit relations.\n",
    "\n",
    "<span style= 'float: right;'><b>[10 marks]</b></span>"
   ]
  },
  {
   "cell_type": "code",
   "execution_count": 13,
   "metadata": {},
   "outputs": [],
   "source": [
    "# YOUR CODE HERE\n",
    "# (ADD ANY ADDITIONAL CELLS AS REQUIRED)"
   ]
  },
  {
   "cell_type": "raw",
   "metadata": {},
   "source": [
    "# YOUR WRITTEN ANSWER HERE"
   ]
  },
  {
   "cell_type": "markdown",
   "metadata": {},
   "source": [
    "*****\n",
    "## Q5: Linear Regression\n",
    "Make use of the provided dataset to build a transcoding time prediction model and show the significance of the provided datasets.\n",
    "\n",
    "Your task is as follows:\n",
    "- Using a Linear Regression model, show how it could be possible (or impossible) to predict memory and cpu resources based on the variables provided in the dataset.\n",
    "\n",
    "You are able to choose any variables in the dataset, except of course the base scores themselves. This means you can try to use indicators to predict the memory and cpu resources, or vice versa. After running your experiment, provide a written answer highlighting your results and the outcome of your work.\n",
    "\n",
    "Marks will be provided for the quality of your response, and the evidence used to prove or disprove whether the memory and cpu resources can be generated with a trivial linear regression model.\n",
    "\n",
    "<span style= 'float: right;'><b>[20 marks]</b></span>"
   ]
  },
  {
   "cell_type": "raw",
   "metadata": {},
   "source": [
    "Enter your Response and Predictors here (for marker simplicity)\n",
    "Response: \n",
    "Predictors: "
   ]
  },
  {
   "cell_type": "code",
   "execution_count": 14,
   "metadata": {},
   "outputs": [],
   "source": [
    "# YOUR CODE HERE\n",
    "# (ADD ANY ADDITIONAL CELLS AS REQUIRED)"
   ]
  },
  {
   "cell_type": "raw",
   "metadata": {},
   "source": [
    "# YOUR WRITTEN RESPONSE HERE"
   ]
  }
 ],
 "metadata": {
  "kernelspec": {
   "display_name": "Python 3",
   "language": "python",
   "name": "python3"
  },
  "language_info": {
   "codemirror_mode": {
    "name": "ipython",
    "version": 3
   },
   "file_extension": ".py",
   "mimetype": "text/x-python",
   "name": "python",
   "nbconvert_exporter": "python",
   "pygments_lexer": "ipython3",
   "version": "3.8.8"
  }
 },
 "nbformat": 4,
 "nbformat_minor": 4
}
